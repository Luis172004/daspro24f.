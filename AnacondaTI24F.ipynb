{
 "cells": [
  {
   "cell_type": "code",
   "execution_count": 9,
   "id": "76cafbed",
   "metadata": {},
   "outputs": [
    {
     "name": "stdout",
     "output_type": "stream",
     "text": [
      "nama:  prabowo\n",
      "umur:  50\n",
      "alamat: Jl. Cibolang\n",
      "provinsi:  7413412\n",
      "nilai pemrograman:  90.5\n",
      "status menikah:  True\n"
     ]
    }
   ],
   "source": [
    "name = \"prabowo\"\n",
    "age = 50\n",
    "addres, province = \"Jl. Cibolang\", '7413412'\n",
    "pythonScore = 90.5\n",
    "isMarried = True\n",
    "\n",
    "print('nama: ', name)\n",
    "print('umur: ', age)\n",
    "print('alamat:', addres)\n",
    "print('provinsi: ', province)\n",
    "print('nilai pemrograman: ', pythonScore)\n",
    "print('status menikah: ', isMarried)"
   ]
  },
  {
   "cell_type": "code",
   "execution_count": 8,
   "id": "a92f4823",
   "metadata": {},
   "outputs": [
    {
     "name": "stdout",
     "output_type": "stream",
     "text": [
      "tipe data (nama) <class 'str'>\n",
      "tipe data (age) <class 'int'>\n",
      "tipe data (addres) <class 'str'>\n",
      "tipe data (province) <class 'str'>\n",
      "tipe data (pythonScore) <class 'float'>\n",
      "tipe data (isMarried) <class 'bool'>\n"
     ]
    }
   ],
   "source": [
    "print('tipe data (nama)', type(name))\n",
    "print('tipe data (age)', type(age))\n",
    "print('tipe data (addres)', type(addres))\n",
    "print('tipe data (province)', type(province))\n",
    "print('tipe data (pythonScore)', type(pythonScore))\n",
    "print('tipe data (isMarried)', type(isMarried))"
   ]
  },
  {
   "cell_type": "code",
   "execution_count": null,
   "id": "79d0fb26",
   "metadata": {},
   "outputs": [],
   "source": [
    "##### casting atau konversi tipe data\n",
    "\n",
    "# STRING\n",
    "strToInt = int(province)\n",
    "strToFloat = float(province)\n",
    "strToBool = bool(province)\n",
    "print('STRING:', strToInt+200, strToFloat, strToBool)\n",
    "\n",
    "# INTEGER\n",
    "intToStr = str(age)\n",
    "intToFloat = float(age)\n",
    "intToBool = bool(age)\n",
    "print('INT:', intToStr, intToFloat, intToBool)\n",
    "\n",
    "# FLOAT\n",
    "floatToStr = str(pythonScore)\n",
    "floatToInt = int(pythonScore)\n",
    "floatToBool = bool(pythonScore)\n",
    "print('FLOAT:', floatToStr, floatToInt, floatToBool)\n",
    "\n",
    "# BOOLEAN\n",
    "boolToStr = str(isMarried)\n",
    "boolToInt = int(isMarried)\n",
    "boolToFloat = float(isMarried)\n",
    "print('BOOL:', boolToStr, boolToInt, boolToFloat)"
   ]
  },
  {
   "cell_type": "code",
   "execution_count": 38,
   "id": "80002d2c",
   "metadata": {},
   "outputs": [
    {
     "name": "stdout",
     "output_type": "stream",
     "text": [
      "S\n",
      "i\n"
     ]
    }
   ],
   "source": [
    "# string adalah kumpulan dari beberapa karakter dan immutable\n",
    "\n",
    "city = 'Sukabumi'\n",
    "panjang = len(city)\n",
    "print(city[0])\n",
    "print(city[panjang-1])"
   ]
  },
  {
   "cell_type": "code",
   "execution_count": 42,
   "id": "45be0d34",
   "metadata": {},
   "outputs": [
    {
     "name": "stdout",
     "output_type": "stream",
     "text": [
      "nilai desimal: 500\n",
      "nilai biner: 10\n",
      "nilai octal: 255\n",
      "nilai hexa: 255\n",
      "biner dari  500 : 0b111110100\n",
      "octal dari  500 : 0o764\n",
      "hexa dari  500 : 0x1f4\n"
     ]
    }
   ],
   "source": [
    "desimal = 500\n",
    "biner = 0b1010\n",
    "octal = 0o377\n",
    "hexa = 0xff\n",
    "print('nilai desimal:',desimal)\n",
    "print('nilai biner:',biner)\n",
    "print('nilai octal:',octal)\n",
    "print('nilai hexa:',hexa)\n",
    "# convt\n",
    "print('biner dari ', desimal, ':', bin(desimal))\n",
    "print('octal dari ', desimal, ':', oct(desimal))\n",
    "print('hexa dari ', desimal, ':', hex(desimal))"
   ]
  },
  {
   "cell_type": "code",
   "execution_count": 54,
   "id": "aa300a27",
   "metadata": {},
   "outputs": [
    {
     "name": "stdout",
     "output_type": "stream",
     "text": [
      "['sukabumi', 'bandung', 'jakarta']\n",
      "sukabumi\n",
      "jakarta\n",
      "['sukabumi', 'jakarta', 'jakarta']\n",
      "('basket', 'solat', 'makan')\n",
      "basket\n",
      "[{'name': 'rudi', 'age': 99, 'address': {'street': 'Jl. Cibolong kalur', 'number': 9999, 'province': 'Kab. Sukabumi'}}, {'name': 'baba', 'age': 98, 'address': {'street': 'Jl. Cibolong kalur', 'number': 9998, 'province': 'Kab. Sukabumi'}}]\n"
     ]
    }
   ],
   "source": [
    "# data type collection\n",
    "cities = ['sukabumi','bandung','jakarta']\n",
    "print(cities)\n",
    "print(cities[0])\n",
    "print(cities[len(cities)-1])\n",
    "cities[1] = 'jakarta'\n",
    "print(cities)\n",
    "\n",
    "hobbies = ('basket', 'solat', 'makan')\n",
    "print(hobbies)\n",
    "print(hobbies[0])\n",
    "# hobbies[0] = 'watching netflix' error program\n",
    "studentsList = [\n",
    "    {\n",
    "    'name' : 'rudi',\n",
    "    'age' : 99,\n",
    "    'address' : {\n",
    "        'street' : 'Jl. Cibolong kalur',\n",
    "        'number' : 9999,\n",
    "        'province' : 'Kab. Sukabumi'\n",
    "        }\n",
    "    },\n",
    "    {\n",
    "    'name' : 'baba',\n",
    "    'age' : 98,\n",
    "    'address' : {\n",
    "        'street' : 'Jl. Cibolong kalur',\n",
    "        'number' : 9998,\n",
    "        'province' : 'Kab. Sukabumi',\n",
    "        }\n",
    "    }\n",
    "]\n",
    "\n",
    "print(studentsList)\n"
   ]
  }
 ],
 "metadata": {
  "kernelspec": {
   "display_name": "Python 3 (ipykernel)",
   "language": "python",
   "name": "python3"
  },
  "language_info": {
   "codemirror_mode": {
    "name": "ipython",
    "version": 3
   },
   "file_extension": ".py",
   "mimetype": "text/x-python",
   "name": "python",
   "nbconvert_exporter": "python",
   "pygments_lexer": "ipython3",
   "version": "3.9.12"
  }
 },
 "nbformat": 4,
 "nbformat_minor": 5
}
