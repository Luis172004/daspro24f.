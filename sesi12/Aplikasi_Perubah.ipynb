{
 "cells": [
  {
   "cell_type": "code",
   "execution_count": 6,
   "id": "838f6792-acfd-4061-91ed-f9b404e1b2cf",
   "metadata": {},
   "outputs": [],
   "source": [
    "import Aritmatika.math as math\n",
    "import Konversi.convert as convert\n",
    "import Binary.binary as binary"
   ]
  },
  {
   "cell_type": "code",
   "execution_count": 7,
   "id": "fd7b3dcc-e06c-48c3-a930-2fc42ac2219b",
   "metadata": {},
   "outputs": [],
   "source": [
    "def arit():\n",
    "    x = int(input(\"Masukan Angka Pertama:\"))\n",
    "    y = int(input(\"Masukan Angka Kedua:\"))\n",
    "    print(\"\"\"\n",
    "    Pilih Metode\n",
    "    1. Penjumlahan\n",
    "    2. Perpangkatan\n",
    "    3. Perkalian\n",
    "    \"\"\")\n",
    "    choice = int(input())\n",
    "    if choice == 1:\n",
    "        r1 = math.add(x,y)\n",
    "        print(f\"Penjumlahan {x} dan {y} adalah {r1}\")\n",
    "    elif choice == 2:\n",
    "        r1 = math.pow(x,y)\n",
    "        print(f\"Perpangkatan {x} dan {y} adalah {r1}\")\n",
    "    elif choice == 3:\n",
    "        r1 = math.multiply(x,y)\n",
    "        print(f\"Perkalian {x} dan {y} adalah {r1}\")"
   ]
  },
  {
   "cell_type": "code",
   "execution_count": 8,
   "id": "12752baf-2f5a-4c9b-8b38-339b7f4a0241",
   "metadata": {},
   "outputs": [],
   "source": [
    "def konv():\n",
    "    desimal = int(input(\"Masukan Angka:\"))\n",
    "    print(\"\"\"\n",
    "    Pilih Metode\n",
    "    1. Konversi CM to M\n",
    "    2. Konversi M to CM\n",
    "    \"\"\")\n",
    "    choice = int(input())\n",
    "    if choice == 1:\n",
    "        r1 = convert.cmToMeter(desimal)\n",
    "        print(f\"CM to M Adalah:{r1}\")\n",
    "    elif choice == 2:\n",
    "        r1 = convert.meterToCm(desimal)\n",
    "        print(f\"M to CM Adalah:{r1}\")"
   ]
  },
  {
   "cell_type": "code",
   "execution_count": 11,
   "id": "f53b2639-e51b-453a-8fd2-41832bc6470e",
   "metadata": {},
   "outputs": [],
   "source": [
    "def bina():\n",
    "    desimal = int(input(\"Masukan Angka:\"))\n",
    "    print(\"\"\"\n",
    "    Pilih Metode\n",
    "    1. Desimal to Biner\n",
    "    2. Desimal to Octal\n",
    "    3. Desimal to Hexa\n",
    "    \"\"\")\n",
    "    choice = int(input())\n",
    "    if choice == 1:\n",
    "        r1 = binary.desimalToBinary(desimal)\n",
    "        print(f\"Desimal Ke Biner Adalah: {r1}\")\n",
    "    elif choice == 2:\n",
    "        r1 = binary.desimalToOctal(desimal)\n",
    "        print(f\"Desimal Ke Biner Adalah: {r1}\")\n",
    "    elif choice == 3:\n",
    "        r1 = binary.desimalToHexa(desimal)\n",
    "        print(f\"Desimal Ke Biner Adalah: {r1}\")"
   ]
  },
  {
   "cell_type": "code",
   "execution_count": 12,
   "id": "b3c920f6-722a-4fa1-b676-b9acdbb747fd",
   "metadata": {},
   "outputs": [
    {
     "name": "stdout",
     "output_type": "stream",
     "text": [
      "\n",
      "    Menu\n",
      "    1. Aritmatika\n",
      "    2. Konversi\n",
      "    3. Ubah Bilangan\n",
      "    4. Exit\n",
      "    \n"
     ]
    },
    {
     "name": "stdin",
     "output_type": "stream",
     "text": [
      " 1\n",
      "Masukan Angka Pertama: 4\n",
      "Masukan Angka Kedua: 5\n"
     ]
    },
    {
     "name": "stdout",
     "output_type": "stream",
     "text": [
      "\n",
      "    Pilih Metode\n",
      "    1. Penjumlahan\n",
      "    2. Perpangkatan\n",
      "    3. Perkalian\n",
      "    \n"
     ]
    },
    {
     "name": "stdin",
     "output_type": "stream",
     "text": [
      " 1\n"
     ]
    },
    {
     "name": "stdout",
     "output_type": "stream",
     "text": [
      "Penjumlahan 4 dan 5 adalah 9\n",
      "\n",
      "    Menu\n",
      "    1. Aritmatika\n",
      "    2. Konversi\n",
      "    3. Ubah Bilangan\n",
      "    4. Exit\n",
      "    \n"
     ]
    },
    {
     "name": "stdin",
     "output_type": "stream",
     "text": [
      " 1\n",
      "Masukan Angka Pertama: 4\n",
      "Masukan Angka Kedua: 5\n"
     ]
    },
    {
     "name": "stdout",
     "output_type": "stream",
     "text": [
      "\n",
      "    Pilih Metode\n",
      "    1. Penjumlahan\n",
      "    2. Perpangkatan\n",
      "    3. Perkalian\n",
      "    \n"
     ]
    },
    {
     "name": "stdin",
     "output_type": "stream",
     "text": [
      " 2\n"
     ]
    },
    {
     "name": "stdout",
     "output_type": "stream",
     "text": [
      "Perpangkatan 4 dan 5 adalah 1024\n",
      "\n",
      "    Menu\n",
      "    1. Aritmatika\n",
      "    2. Konversi\n",
      "    3. Ubah Bilangan\n",
      "    4. Exit\n",
      "    \n"
     ]
    },
    {
     "name": "stdin",
     "output_type": "stream",
     "text": [
      " 1\n",
      "Masukan Angka Pertama: 4\n",
      "Masukan Angka Kedua: 5\n"
     ]
    },
    {
     "name": "stdout",
     "output_type": "stream",
     "text": [
      "\n",
      "    Pilih Metode\n",
      "    1. Penjumlahan\n",
      "    2. Perpangkatan\n",
      "    3. Perkalian\n",
      "    \n"
     ]
    },
    {
     "name": "stdin",
     "output_type": "stream",
     "text": [
      " 3\n"
     ]
    },
    {
     "name": "stdout",
     "output_type": "stream",
     "text": [
      "Perkalian 4 dan 5 adalah 20\n",
      "\n",
      "    Menu\n",
      "    1. Aritmatika\n",
      "    2. Konversi\n",
      "    3. Ubah Bilangan\n",
      "    4. Exit\n",
      "    \n"
     ]
    },
    {
     "name": "stdin",
     "output_type": "stream",
     "text": [
      " 2\n",
      "Masukan Angka: 500\n"
     ]
    },
    {
     "name": "stdout",
     "output_type": "stream",
     "text": [
      "\n",
      "    Pilih Metode\n",
      "    1. Konversi CM to M\n",
      "    2. Konversi M to CM\n",
      "    \n"
     ]
    },
    {
     "name": "stdin",
     "output_type": "stream",
     "text": [
      " 1\n"
     ]
    },
    {
     "name": "stdout",
     "output_type": "stream",
     "text": [
      "CM to M Adalah:5.0\n",
      "\n",
      "    Menu\n",
      "    1. Aritmatika\n",
      "    2. Konversi\n",
      "    3. Ubah Bilangan\n",
      "    4. Exit\n",
      "    \n"
     ]
    },
    {
     "name": "stdin",
     "output_type": "stream",
     "text": [
      " 2\n",
      "Masukan Angka: 500\n"
     ]
    },
    {
     "name": "stdout",
     "output_type": "stream",
     "text": [
      "\n",
      "    Pilih Metode\n",
      "    1. Konversi CM to M\n",
      "    2. Konversi M to CM\n",
      "    \n"
     ]
    },
    {
     "name": "stdin",
     "output_type": "stream",
     "text": [
      " 2\n"
     ]
    },
    {
     "name": "stdout",
     "output_type": "stream",
     "text": [
      "M to CM Adalah:50000\n",
      "\n",
      "    Menu\n",
      "    1. Aritmatika\n",
      "    2. Konversi\n",
      "    3. Ubah Bilangan\n",
      "    4. Exit\n",
      "    \n"
     ]
    },
    {
     "name": "stdin",
     "output_type": "stream",
     "text": [
      " 3\n",
      "Masukan Angka: 500\n"
     ]
    },
    {
     "name": "stdout",
     "output_type": "stream",
     "text": [
      "\n",
      "    Pilih Metode\n",
      "    1. Desimal to Biner\n",
      "    2. Desimal to Octal\n",
      "    3. Desimal to Hexa\n",
      "    \n"
     ]
    },
    {
     "name": "stdin",
     "output_type": "stream",
     "text": [
      " 1\n"
     ]
    },
    {
     "name": "stdout",
     "output_type": "stream",
     "text": [
      "Desimal Ke Biner Adalah: 0b111110100\n",
      "\n",
      "    Menu\n",
      "    1. Aritmatika\n",
      "    2. Konversi\n",
      "    3. Ubah Bilangan\n",
      "    4. Exit\n",
      "    \n"
     ]
    },
    {
     "name": "stdin",
     "output_type": "stream",
     "text": [
      " 3\n",
      "Masukan Angka: 500\n"
     ]
    },
    {
     "name": "stdout",
     "output_type": "stream",
     "text": [
      "\n",
      "    Pilih Metode\n",
      "    1. Desimal to Biner\n",
      "    2. Desimal to Octal\n",
      "    3. Desimal to Hexa\n",
      "    \n"
     ]
    },
    {
     "name": "stdin",
     "output_type": "stream",
     "text": [
      " 2\n"
     ]
    },
    {
     "name": "stdout",
     "output_type": "stream",
     "text": [
      "Desimal Ke Biner Adalah: 0o764\n",
      "\n",
      "    Menu\n",
      "    1. Aritmatika\n",
      "    2. Konversi\n",
      "    3. Ubah Bilangan\n",
      "    4. Exit\n",
      "    \n"
     ]
    },
    {
     "name": "stdin",
     "output_type": "stream",
     "text": [
      " 3\n",
      "Masukan Angka: 500\n"
     ]
    },
    {
     "name": "stdout",
     "output_type": "stream",
     "text": [
      "\n",
      "    Pilih Metode\n",
      "    1. Desimal to Biner\n",
      "    2. Desimal to Octal\n",
      "    3. Desimal to Hexa\n",
      "    \n"
     ]
    },
    {
     "name": "stdin",
     "output_type": "stream",
     "text": [
      " 3\n"
     ]
    },
    {
     "name": "stdout",
     "output_type": "stream",
     "text": [
      "Desimal Ke Biner Adalah: 0x1f4\n",
      "\n",
      "    Menu\n",
      "    1. Aritmatika\n",
      "    2. Konversi\n",
      "    3. Ubah Bilangan\n",
      "    4. Exit\n",
      "    \n"
     ]
    },
    {
     "name": "stdin",
     "output_type": "stream",
     "text": [
      " 4\n"
     ]
    },
    {
     "name": "stdout",
     "output_type": "stream",
     "text": [
      "Terima Kasih!!\n"
     ]
    }
   ],
   "source": [
    "while True:\n",
    "    print(\"\"\"\n",
    "    Menu\n",
    "    1. Aritmatika\n",
    "    2. Konversi\n",
    "    3. Ubah Bilangan\n",
    "    4. Exit\n",
    "    \"\"\")\n",
    "    choice = int(input())\n",
    "    \n",
    "    if choice == 1:\n",
    "        arit()\n",
    "    elif choice == 2:\n",
    "        konv()\n",
    "    elif choice == 3:\n",
    "        bina()\n",
    "    elif choice == 4:\n",
    "        print(\"Terima Kasih!!\")\n",
    "        break\n",
    "    else:\n",
    "        print(\"Input Tidak Valid\")"
   ]
  },
  {
   "cell_type": "code",
   "execution_count": null,
   "id": "309ee670-83ca-42fc-9ab8-87c526010333",
   "metadata": {},
   "outputs": [],
   "source": []
  }
 ],
 "metadata": {
  "kernelspec": {
   "display_name": "Python 3 (ipykernel)",
   "language": "python",
   "name": "python3"
  },
  "language_info": {
   "codemirror_mode": {
    "name": "ipython",
    "version": 3
   },
   "file_extension": ".py",
   "mimetype": "text/x-python",
   "name": "python",
   "nbconvert_exporter": "python",
   "pygments_lexer": "ipython3",
   "version": "3.12.9"
  }
 },
 "nbformat": 4,
 "nbformat_minor": 5
}
